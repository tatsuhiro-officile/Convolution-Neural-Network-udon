{
 "cells": [
  {
   "cell_type": "markdown",
   "metadata": {},
   "source": [
    "# <span style=\"color: blue; \">讃岐うどん検査</span>\n",
    "## 全国展開している讃岐うどんチェーンのうどんは、本場讃岐うどんかどうか確認する\n",
    "\n",
    "- 学習データ：本場香川の讃岐うどん500枚、その他のうどん513枚\n",
    "- test data :個人的に食べたうどんの写真"
   ]
  },
  {
   "cell_type": "markdown",
   "metadata": {},
   "source": [
    "## ■学習データの作成\n",
    "- 前処理で使うモジュールをインポート\n",
    "- globで学習用データのファイルのパス名を取得\n",
    "- Pillowでファイルｗｐ開き画像を学習できるように加工してnumpy配列にする\n"
   ]
  },
  {
   "cell_type": "code",
   "execution_count": 40,
   "metadata": {},
   "outputs": [],
   "source": [
    "from PIL import Image\n",
    "import numpy as np\n",
    "from matplotlib import pyplot as plt\n",
    "import glob\n",
    "image_path = \"sanuki/*\"\n",
    "\n",
    "image_path2 = \"anotherudon/*\"\n",
    "\n",
    "\n",
    "files = glob.glob(image_path)\n",
    "files2 = glob.glob(image_path2)"
   ]
  },
  {
   "cell_type": "code",
   "execution_count": 41,
   "metadata": {},
   "outputs": [],
   "source": [
    "X = []  \n",
    "Y = []\n",
    "Z = []\n",
    "for i,f in enumerate (files):\n",
    "  img = Image.open(f)\n",
    "  resized_image = img.convert(\"RGB\").resize((100,100))\n",
    "  im = np.array(resized_image)\n",
    "  X.append(im)\n",
    "\n",
    "for n,t in enumerate(files2,500):\n",
    "  img2 = Image.open(t)\n",
    "  resized_image_2 = img2.convert(\"RGB\").resize((100,100))\n",
    "  im2 = np.array(resized_image_2)\n",
    "  Y.append(im2)\n",
    "\n",
    "\n",
    "X.extend(Y)\n",
    "x_train = np.array(X)\n",
    "\n"
   ]
  },
  {
   "cell_type": "markdown",
   "metadata": {},
   "source": [
    "## ■ラベルデータの作成\n",
    "- 前半500枚の画像を讃岐うどん0、後半513枚の画像を1とする\n",
    "- numpydataに変換"
   ]
  },
  {
   "cell_type": "code",
   "execution_count": 42,
   "metadata": {},
   "outputs": [
    {
     "data": {
      "text/plain": [
       "array([0, 0, 0, ..., 1, 1, 1], dtype=uint8)"
      ]
     },
     "execution_count": 42,
     "metadata": {},
     "output_type": "execute_result"
    }
   ],
   "source": [
    "honba = [0]*500\n",
    "another_udon = [1]*513\n",
    "\n",
    "honba.extend(another_udon)\n",
    "y_train = np.array(honba)\n",
    "y_train = y_train.astype(\"uint8\")\n",
    "\n",
    "y_train"
   ]
  },
  {
   "cell_type": "markdown",
   "metadata": {},
   "source": [
    "## ■検証用データの作成\n",
    "- 学習用データから検証用データを作成\n",
    "- 検証用データは全体の４割にする"
   ]
  },
  {
   "cell_type": "code",
   "execution_count": 43,
   "metadata": {},
   "outputs": [],
   "source": [
    "from sklearn.model_selection import train_test_split\n",
    "x_train1, x_valid, y_train1, y_valid = train_test_split(x_train, y_train, test_size=0.4)"
   ]
  },
  {
   "cell_type": "markdown",
   "metadata": {},
   "source": [
    "## ■model作成\n",
    "- tensorflow、kerasなどディープラーニングのモジュールをインポート\n",
    "- modelを作成\n",
    "\n",
    "|  作成する層 |\n",
    "| ---- |\n",
    "|  2次元の畳み込み層×2 |\n",
    "|  MaxPooling層 |\n",
    "|  ドロップアウト層×2 |\n",
    "|  平坦化 |\n",
    "|  全結合層128×2|"
   ]
  },
  {
   "cell_type": "code",
   "execution_count": 44,
   "metadata": {},
   "outputs": [],
   "source": [
    "from tensorflow.keras.models import Sequential\n",
    "from tensorflow.keras.layers import Dense, Dropout, Flatten\n",
    "from tensorflow.keras.layers import Conv2D, MaxPooling2D\n",
    "from keras.datasets import mnist\n",
    "from keras.models import Sequential\n",
    "from tensorflow.keras import Sequential\n",
    "from tensorflow.keras.layers import Dense, Dropout"
   ]
  },
  {
   "cell_type": "code",
   "execution_count": 45,
   "metadata": {},
   "outputs": [],
   "source": [
    "model = Sequential()\n",
    "model.add(Conv2D(64, kernel_size=(3, 3), activation='relu', input_shape=(100, 100, 3)))\n",
    "\n",
    "model.add(Conv2D(128, (3, 3), activation='relu'))\n",
    "\n",
    "model.add(MaxPooling2D(pool_size=(2, 2)))\n",
    "\n",
    "model.add(Dropout(0.25))\n",
    "model.add(Flatten())\n",
    "\n",
    "model.add(Dense(128, activation='relu'))\n",
    "model.add(Dropout(0.5))\n",
    "model.add(Dense(2, activation='softmax'))"
   ]
  },
  {
   "cell_type": "markdown",
   "metadata": {},
   "source": [
    "## ■学習データ、検証用データの加工\n",
    "\n",
    "- 学習用データを計算しやすいように、255で割り、少数にする\n",
    "- ラベルデータは0(讃岐うどん) または1（その他のうどん）かの枠を作成\n",
    "- 検証用データを確認するため、検証用データを２つ用意する"
   ]
  },
  {
   "cell_type": "code",
   "execution_count": 46,
   "metadata": {},
   "outputs": [],
   "source": [
    "import keras\n",
    "x_train = x_train.astype('float32')\n",
    "x_valid = x_valid.astype('float32')\n",
    "x_train /= 255\n",
    "x_valid /= 255\n",
    "\n",
    "\n",
    "y_valid2 = y_valid\n",
    "y_train = keras.utils.to_categorical(y_train, 2)\n",
    "y_valid = keras.utils.to_categorical(y_valid, 2)"
   ]
  },
  {
   "cell_type": "markdown",
   "metadata": {},
   "source": [
    "## ■学習を開始\n",
    "- 学習は15回行い、バッチサイズは128とする"
   ]
  },
  {
   "cell_type": "code",
   "execution_count": 34,
   "metadata": {},
   "outputs": [
    {
     "name": "stdout",
     "output_type": "stream",
     "text": [
      "Epoch 1/2\n",
      "8/8 [==============================] - 25s 3s/step - loss: 4.4332 - accuracy: 0.5183 - val_loss: 0.8344 - val_accuracy: 0.5074\n",
      "Epoch 2/2\n",
      "8/8 [==============================] - 25s 3s/step - loss: 0.7203 - accuracy: 0.5123 - val_loss: 0.6522 - val_accuracy: 0.6256\n"
     ]
    }
   ],
   "source": [
    "from keras.optimizers import RMSprop\n",
    "model.compile(loss='binary_crossentropy',\n",
    "              optimizer=\"adam\",\n",
    "              metrics=['accuracy'])\n",
    "\n",
    "\n",
    "history = model.fit(x_train, y_train,\n",
    "                    batch_size=128,\n",
    "                    epochs=15,\n",
    "                    verbose=1,\n",
    "                    validation_data=(x_valid, y_valid))"
   ]
  },
  {
   "cell_type": "markdown",
   "metadata": {},
   "source": [
    "## ■検証用のデータを確認\n",
    "\n",
    "- 検証用データから、結果を出力\n",
    "- 0と1のそれぞれの確率が確認出来る\n",
    "- argmaxで確率の高い方を出力\n",
    "- classification_reportで適合率、再現率を確認"
   ]
  },
  {
   "cell_type": "code",
   "execution_count": 35,
   "metadata": {},
   "outputs": [
    {
     "data": {
      "text/plain": [
       "array([[0.5059478 , 0.49405223],\n",
       "       [0.62156165, 0.37843832],\n",
       "       [0.55566484, 0.44433513],\n",
       "       [0.65758044, 0.34241953],\n",
       "       [0.5732886 , 0.42671132],\n",
       "       [0.5588271 , 0.44117296],\n",
       "       [0.5952406 , 0.40475947],\n",
       "       [0.68076783, 0.31923217],\n",
       "       [0.6487599 , 0.35124013],\n",
       "       [0.5390307 , 0.46096927],\n",
       "       [0.6390566 , 0.36094338],\n",
       "       [0.55823725, 0.44176272],\n",
       "       [0.51978505, 0.48021492],\n",
       "       [0.52489656, 0.47510344],\n",
       "       [0.5451483 , 0.45485163],\n",
       "       [0.7344232 , 0.26557675],\n",
       "       [0.7324136 , 0.26758638],\n",
       "       [0.5617269 , 0.43827307],\n",
       "       [0.49500805, 0.5049919 ],\n",
       "       [0.666476  , 0.33352402],\n",
       "       [0.4853005 , 0.5146995 ],\n",
       "       [0.5653002 , 0.4346998 ],\n",
       "       [0.48481515, 0.5151848 ],\n",
       "       [0.67814255, 0.32185745],\n",
       "       [0.47472438, 0.5252756 ],\n",
       "       [0.54228413, 0.45771596],\n",
       "       [0.578127  , 0.42187294],\n",
       "       [0.57549185, 0.42450815],\n",
       "       [0.53948414, 0.46051583],\n",
       "       [0.4757201 , 0.5242799 ],\n",
       "       [0.4917734 , 0.50822663],\n",
       "       [0.66547686, 0.33452314],\n",
       "       [0.48596925, 0.5140307 ],\n",
       "       [0.7081366 , 0.29186344],\n",
       "       [0.5800416 , 0.41995838],\n",
       "       [0.54226893, 0.45773104],\n",
       "       [0.48055303, 0.51944697],\n",
       "       [0.46360376, 0.5363962 ],\n",
       "       [0.55156887, 0.44843113],\n",
       "       [0.56764525, 0.43235478],\n",
       "       [0.62871116, 0.37128884],\n",
       "       [0.5660645 , 0.43393552],\n",
       "       [0.6020484 , 0.39795163],\n",
       "       [0.62914455, 0.37085545],\n",
       "       [0.6698209 , 0.33017913],\n",
       "       [0.6711669 , 0.328833  ],\n",
       "       [0.58856577, 0.4114342 ],\n",
       "       [0.5352446 , 0.46475542],\n",
       "       [0.5881102 , 0.4118898 ],\n",
       "       [0.54469484, 0.4553052 ],\n",
       "       [0.4789538 , 0.52104616],\n",
       "       [0.57295626, 0.42704377],\n",
       "       [0.6184485 , 0.38155156],\n",
       "       [0.6290506 , 0.37094942],\n",
       "       [0.5412202 , 0.4587798 ],\n",
       "       [0.6221018 , 0.3778982 ],\n",
       "       [0.5471478 , 0.45285222],\n",
       "       [0.64316034, 0.3568396 ],\n",
       "       [0.65758044, 0.34241953],\n",
       "       [0.6002139 , 0.39978608],\n",
       "       [0.63676536, 0.36323464],\n",
       "       [0.48834026, 0.51165974],\n",
       "       [0.6167667 , 0.38323334],\n",
       "       [0.5921909 , 0.40780914],\n",
       "       [0.5063301 , 0.49366993],\n",
       "       [0.53712744, 0.4628725 ],\n",
       "       [0.5998249 , 0.40017512],\n",
       "       [0.56121194, 0.43878803],\n",
       "       [0.47631153, 0.5236885 ],\n",
       "       [0.483022  , 0.5169781 ],\n",
       "       [0.5775796 , 0.42242038],\n",
       "       [0.68420005, 0.31579995],\n",
       "       [0.60812   , 0.39187995],\n",
       "       [0.72260255, 0.27739745],\n",
       "       [0.5816555 , 0.41834453],\n",
       "       [0.59075236, 0.40924764],\n",
       "       [0.5701037 , 0.4298963 ],\n",
       "       [0.58446276, 0.41553727],\n",
       "       [0.5535273 , 0.44647273],\n",
       "       [0.48954228, 0.5104578 ],\n",
       "       [0.51261485, 0.48738518],\n",
       "       [0.48058265, 0.51941735],\n",
       "       [0.48546782, 0.5145322 ],\n",
       "       [0.5145937 , 0.4854063 ],\n",
       "       [0.4894072 , 0.5105928 ],\n",
       "       [0.52048004, 0.47951996],\n",
       "       [0.5747755 , 0.42522445],\n",
       "       [0.6330399 , 0.36696008],\n",
       "       [0.5422929 , 0.45770714],\n",
       "       [0.5756796 , 0.4243204 ],\n",
       "       [0.5614655 , 0.43853453],\n",
       "       [0.5680646 , 0.4319355 ],\n",
       "       [0.48363653, 0.51636344],\n",
       "       [0.5393879 , 0.46061215],\n",
       "       [0.48331457, 0.5166855 ],\n",
       "       [0.6491131 , 0.3508869 ],\n",
       "       [0.6463942 , 0.3536058 ],\n",
       "       [0.52327967, 0.47672033],\n",
       "       [0.556335  , 0.44366497],\n",
       "       [0.60414475, 0.3958552 ],\n",
       "       [0.6467115 , 0.3532884 ],\n",
       "       [0.5130204 , 0.48697957],\n",
       "       [0.48493153, 0.5150685 ],\n",
       "       [0.4833821 , 0.5166179 ],\n",
       "       [0.5861684 , 0.4138316 ],\n",
       "       [0.5595254 , 0.44047463],\n",
       "       [0.6166122 , 0.38338783],\n",
       "       [0.48084128, 0.5191587 ],\n",
       "       [0.5471181 , 0.45288184],\n",
       "       [0.62303174, 0.3769683 ],\n",
       "       [0.62549937, 0.3745006 ],\n",
       "       [0.51634294, 0.483657  ],\n",
       "       [0.48140284, 0.5185971 ],\n",
       "       [0.47154456, 0.52845544],\n",
       "       [0.5033832 , 0.49661672],\n",
       "       [0.5350573 , 0.4649427 ],\n",
       "       [0.5312981 , 0.46870187],\n",
       "       [0.5933705 , 0.40662947],\n",
       "       [0.5974854 , 0.40251455],\n",
       "       [0.55792785, 0.44207215],\n",
       "       [0.42167038, 0.57832956],\n",
       "       [0.5244893 , 0.4755107 ],\n",
       "       [0.53975403, 0.46024594],\n",
       "       [0.53607976, 0.46392027],\n",
       "       [0.66111857, 0.3388815 ],\n",
       "       [0.52678   , 0.47321996],\n",
       "       [0.60196143, 0.39803854],\n",
       "       [0.61375684, 0.38624316],\n",
       "       [0.51736116, 0.4826388 ],\n",
       "       [0.58823687, 0.4117631 ],\n",
       "       [0.587416  , 0.41258404],\n",
       "       [0.60211253, 0.3978874 ],\n",
       "       [0.54951173, 0.4504882 ],\n",
       "       [0.555852  , 0.44414803],\n",
       "       [0.51544315, 0.48455685],\n",
       "       [0.55116534, 0.44883466],\n",
       "       [0.48224887, 0.51775116],\n",
       "       [0.52059287, 0.47940704],\n",
       "       [0.5967441 , 0.4032559 ],\n",
       "       [0.6213315 , 0.3786685 ],\n",
       "       [0.5926537 , 0.40734622],\n",
       "       [0.5614063 , 0.43859375],\n",
       "       [0.62028897, 0.3797111 ],\n",
       "       [0.4852814 , 0.51471853],\n",
       "       [0.55121255, 0.44878742],\n",
       "       [0.47496277, 0.52503717],\n",
       "       [0.5773447 , 0.42265528],\n",
       "       [0.5064286 , 0.4935714 ],\n",
       "       [0.50306934, 0.4969306 ],\n",
       "       [0.5205004 , 0.47949955],\n",
       "       [0.6500425 , 0.34995753],\n",
       "       [0.5346992 , 0.4653008 ],\n",
       "       [0.5693092 , 0.4306908 ],\n",
       "       [0.47955513, 0.52044487],\n",
       "       [0.5820677 , 0.4179322 ],\n",
       "       [0.55471855, 0.4452815 ],\n",
       "       [0.60537815, 0.39462188],\n",
       "       [0.53275317, 0.4672468 ],\n",
       "       [0.6159411 , 0.3840589 ],\n",
       "       [0.60412616, 0.3958738 ],\n",
       "       [0.528631  , 0.471369  ],\n",
       "       [0.5158797 , 0.48412037],\n",
       "       [0.56976724, 0.43023282],\n",
       "       [0.48031875, 0.5196812 ],\n",
       "       [0.6667465 , 0.3332535 ],\n",
       "       [0.5294805 , 0.47051948],\n",
       "       [0.49222273, 0.5077772 ],\n",
       "       [0.5850173 , 0.41498265],\n",
       "       [0.47425875, 0.5257412 ],\n",
       "       [0.5744118 , 0.4255882 ],\n",
       "       [0.5240639 , 0.47593608],\n",
       "       [0.51269126, 0.48730874],\n",
       "       [0.531814  , 0.46818605],\n",
       "       [0.5968233 , 0.40317675],\n",
       "       [0.5406998 , 0.4593002 ],\n",
       "       [0.49930358, 0.50069636],\n",
       "       [0.47308686, 0.52691317],\n",
       "       [0.48275304, 0.51724696],\n",
       "       [0.53123206, 0.46876797],\n",
       "       [0.5155419 , 0.48445806],\n",
       "       [0.5926122 , 0.4073878 ],\n",
       "       [0.67077476, 0.3292252 ],\n",
       "       [0.5076691 , 0.49233097],\n",
       "       [0.6575437 , 0.34245628],\n",
       "       [0.55870706, 0.4412929 ],\n",
       "       [0.5888733 , 0.41112664],\n",
       "       [0.51210773, 0.48789224],\n",
       "       [0.60052156, 0.39947847],\n",
       "       [0.57736355, 0.42263645],\n",
       "       [0.5383904 , 0.4616096 ],\n",
       "       [0.54884136, 0.45115867],\n",
       "       [0.63784295, 0.36215708],\n",
       "       [0.48361722, 0.51638275],\n",
       "       [0.5373028 , 0.46269718],\n",
       "       [0.48788592, 0.51211405],\n",
       "       [0.55159646, 0.44840363],\n",
       "       [0.4370735 , 0.5629265 ],\n",
       "       [0.623683  , 0.3763171 ],\n",
       "       [0.6364144 , 0.36358562],\n",
       "       [0.5241668 , 0.4758331 ],\n",
       "       [0.5113111 , 0.48868886],\n",
       "       [0.6313598 , 0.3686401 ],\n",
       "       [0.5920535 , 0.40794656],\n",
       "       [0.5736657 , 0.4263343 ],\n",
       "       [0.5147408 , 0.4852592 ],\n",
       "       [0.4604948 , 0.5395051 ],\n",
       "       [0.54678845, 0.45321146],\n",
       "       [0.550426  , 0.44957402],\n",
       "       [0.5181188 , 0.48188114],\n",
       "       [0.5442119 , 0.45578805],\n",
       "       [0.65672034, 0.34327972],\n",
       "       [0.49483764, 0.50516236],\n",
       "       [0.60083985, 0.39916018],\n",
       "       [0.53108895, 0.46891102],\n",
       "       [0.5752751 , 0.42472485],\n",
       "       [0.5982141 , 0.40178585],\n",
       "       [0.63488173, 0.36511827],\n",
       "       [0.49886492, 0.5011351 ],\n",
       "       [0.56764525, 0.43235478],\n",
       "       [0.5571357 , 0.4428643 ],\n",
       "       [0.53386146, 0.46613857],\n",
       "       [0.5676008 , 0.43239924],\n",
       "       [0.60238415, 0.3976158 ],\n",
       "       [0.60936916, 0.39063087],\n",
       "       [0.5691366 , 0.43086344],\n",
       "       [0.5837861 , 0.4162139 ],\n",
       "       [0.5007597 , 0.49924028],\n",
       "       [0.5677447 , 0.43225533],\n",
       "       [0.60544634, 0.39455366],\n",
       "       [0.62685174, 0.3731483 ],\n",
       "       [0.6056046 , 0.39439538],\n",
       "       [0.532202  , 0.46779808],\n",
       "       [0.4786754 , 0.5213246 ],\n",
       "       [0.50599355, 0.4940065 ],\n",
       "       [0.5996325 , 0.40036747],\n",
       "       [0.53312606, 0.46687394],\n",
       "       [0.6105284 , 0.38947162],\n",
       "       [0.5922174 , 0.40778258],\n",
       "       [0.51832193, 0.48167813],\n",
       "       [0.5678332 , 0.43216684],\n",
       "       [0.5832421 , 0.41675785],\n",
       "       [0.59185964, 0.4081404 ],\n",
       "       [0.5229934 , 0.47700655],\n",
       "       [0.6051157 , 0.3948843 ],\n",
       "       [0.5723024 , 0.42769763],\n",
       "       [0.4990078 , 0.50099224],\n",
       "       [0.50268245, 0.49731755],\n",
       "       [0.5473184 , 0.4526816 ],\n",
       "       [0.53326625, 0.46673366],\n",
       "       [0.64827293, 0.35172704],\n",
       "       [0.50849146, 0.49150857],\n",
       "       [0.4911456 , 0.5088544 ],\n",
       "       [0.5007597 , 0.49924028],\n",
       "       [0.5780918 , 0.4219082 ],\n",
       "       [0.5589522 , 0.44104776],\n",
       "       [0.60544807, 0.39455196],\n",
       "       [0.5215336 , 0.47846648],\n",
       "       [0.5745494 , 0.4254506 ],\n",
       "       [0.52647066, 0.4735293 ],\n",
       "       [0.49670413, 0.50329584],\n",
       "       [0.5716118 , 0.42838815],\n",
       "       [0.42760438, 0.5723956 ],\n",
       "       [0.5204177 , 0.4795823 ],\n",
       "       [0.54078615, 0.45921385],\n",
       "       [0.50399685, 0.49600315],\n",
       "       [0.56140184, 0.43859813],\n",
       "       [0.55466276, 0.44533727],\n",
       "       [0.48596147, 0.5140385 ],\n",
       "       [0.67454416, 0.32545584],\n",
       "       [0.46013588, 0.5398641 ],\n",
       "       [0.54192114, 0.45807886],\n",
       "       [0.5420825 , 0.45791754],\n",
       "       [0.6203273 , 0.37967274],\n",
       "       [0.51949227, 0.48050776],\n",
       "       [0.58844465, 0.41155535],\n",
       "       [0.53295547, 0.4670446 ],\n",
       "       [0.6447092 , 0.35529074],\n",
       "       [0.5017003 , 0.49829972],\n",
       "       [0.6750153 , 0.3249847 ],\n",
       "       [0.4573749 , 0.54262507],\n",
       "       [0.5735624 , 0.4264376 ],\n",
       "       [0.63396275, 0.3660372 ],\n",
       "       [0.5009072 , 0.4990929 ],\n",
       "       [0.6094134 , 0.39058664],\n",
       "       [0.614477  , 0.38552302],\n",
       "       [0.6040368 , 0.39596322],\n",
       "       [0.5673747 , 0.43262532],\n",
       "       [0.65778005, 0.34221992],\n",
       "       [0.42419356, 0.5758064 ],\n",
       "       [0.4909135 , 0.5090865 ],\n",
       "       [0.64156306, 0.3584369 ],\n",
       "       [0.46461576, 0.53538424],\n",
       "       [0.5303101 , 0.46968994],\n",
       "       [0.5991135 , 0.40088645],\n",
       "       [0.5695154 , 0.43048462],\n",
       "       [0.7208694 , 0.27913064],\n",
       "       [0.6094138 , 0.39058617],\n",
       "       [0.6081963 , 0.39180368],\n",
       "       [0.49167377, 0.50832623],\n",
       "       [0.4726761 , 0.52732396],\n",
       "       [0.5616907 , 0.43830934],\n",
       "       [0.5560261 , 0.4439739 ],\n",
       "       [0.46733227, 0.53266764],\n",
       "       [0.5803342 , 0.41966584],\n",
       "       [0.6068472 , 0.3931527 ],\n",
       "       [0.61724657, 0.38275343],\n",
       "       [0.57510793, 0.42489204],\n",
       "       [0.66909015, 0.33090982],\n",
       "       [0.50940335, 0.49059668],\n",
       "       [0.59797853, 0.4020215 ],\n",
       "       [0.57399863, 0.4260014 ],\n",
       "       [0.5017983 , 0.49820176],\n",
       "       [0.57954866, 0.42045134],\n",
       "       [0.6118861 , 0.38811398],\n",
       "       [0.5687394 , 0.43126062],\n",
       "       [0.57003117, 0.4299689 ],\n",
       "       [0.549332  , 0.450668  ],\n",
       "       [0.5891962 , 0.4108038 ],\n",
       "       [0.63855505, 0.36144492],\n",
       "       [0.58818424, 0.4118158 ],\n",
       "       [0.5537979 , 0.44620213],\n",
       "       [0.73254967, 0.26745036],\n",
       "       [0.48734722, 0.51265275],\n",
       "       [0.5497111 , 0.45028886],\n",
       "       [0.5962931 , 0.40370694],\n",
       "       [0.6126368 , 0.38736314],\n",
       "       [0.5467532 , 0.45324683],\n",
       "       [0.55238056, 0.4476194 ],\n",
       "       [0.46695527, 0.5330447 ],\n",
       "       [0.7339856 , 0.26601437],\n",
       "       [0.5179147 , 0.48208532],\n",
       "       [0.56429744, 0.4357026 ],\n",
       "       [0.5106291 , 0.4893709 ],\n",
       "       [0.5731282 , 0.4268718 ],\n",
       "       [0.57128674, 0.42871317],\n",
       "       [0.4323514 , 0.56764865],\n",
       "       [0.52231693, 0.47768313],\n",
       "       [0.5458466 , 0.45415342],\n",
       "       [0.5555055 , 0.44449446],\n",
       "       [0.6177078 , 0.38229224],\n",
       "       [0.5615547 , 0.4384454 ],\n",
       "       [0.54897684, 0.45102313],\n",
       "       [0.5226517 , 0.4773484 ],\n",
       "       [0.5582519 , 0.4417481 ],\n",
       "       [0.66793364, 0.33206633],\n",
       "       [0.44716176, 0.5528383 ],\n",
       "       [0.59267724, 0.4073227 ],\n",
       "       [0.59222496, 0.407775  ],\n",
       "       [0.5986413 , 0.40135875],\n",
       "       [0.6310773 , 0.3689227 ],\n",
       "       [0.52977234, 0.4702277 ],\n",
       "       [0.5125449 , 0.48745516],\n",
       "       [0.57125074, 0.4287493 ],\n",
       "       [0.6304324 , 0.36956757],\n",
       "       [0.66456515, 0.3354348 ],\n",
       "       [0.5416061 , 0.45839387],\n",
       "       [0.5692862 , 0.4307137 ],\n",
       "       [0.43877155, 0.56122845],\n",
       "       [0.5604787 , 0.43952137],\n",
       "       [0.53794956, 0.46205044],\n",
       "       [0.52041405, 0.47958592],\n",
       "       [0.5531583 , 0.44684175],\n",
       "       [0.65710443, 0.34289557],\n",
       "       [0.5262619 , 0.47373807],\n",
       "       [0.5614332 , 0.4385668 ],\n",
       "       [0.6927764 , 0.30722365],\n",
       "       [0.53961307, 0.46038693],\n",
       "       [0.5928868 , 0.40711325],\n",
       "       [0.5309392 , 0.46906075],\n",
       "       [0.5200131 , 0.47998694],\n",
       "       [0.5848042 , 0.41519585],\n",
       "       [0.51117635, 0.48882365],\n",
       "       [0.5596582 , 0.44034177],\n",
       "       [0.56082326, 0.43917674],\n",
       "       [0.5956337 , 0.40436625],\n",
       "       [0.6647233 , 0.3352767 ],\n",
       "       [0.63028437, 0.3697156 ],\n",
       "       [0.5245908 , 0.4754092 ],\n",
       "       [0.6004579 , 0.39954215],\n",
       "       [0.53862095, 0.461379  ],\n",
       "       [0.54884464, 0.45115533],\n",
       "       [0.6806906 , 0.31930944],\n",
       "       [0.47065172, 0.5293483 ],\n",
       "       [0.5830226 , 0.41697747],\n",
       "       [0.64523035, 0.35476968],\n",
       "       [0.59657806, 0.40342197],\n",
       "       [0.50873405, 0.49126592],\n",
       "       [0.5304142 , 0.46958575],\n",
       "       [0.5479307 , 0.45206922],\n",
       "       [0.6312423 , 0.3687577 ],\n",
       "       [0.50065684, 0.49934313],\n",
       "       [0.5710365 , 0.42896348],\n",
       "       [0.5368642 , 0.46313572],\n",
       "       [0.5001543 , 0.49984574],\n",
       "       [0.57724756, 0.4227524 ],\n",
       "       [0.61053866, 0.3894613 ],\n",
       "       [0.48669282, 0.51330715],\n",
       "       [0.5491935 , 0.4508065 ],\n",
       "       [0.5831971 , 0.41680282],\n",
       "       [0.52393633, 0.47606373],\n",
       "       [0.64814395, 0.35185608],\n",
       "       [0.41971076, 0.58028924],\n",
       "       [0.4767681 , 0.52323186],\n",
       "       [0.62825763, 0.3717423 ],\n",
       "       [0.62872446, 0.37127545],\n",
       "       [0.5912041 , 0.40879592]], dtype=float32)"
      ]
     },
     "execution_count": 35,
     "metadata": {},
     "output_type": "execute_result"
    }
   ],
   "source": [
    "from sklearn.metrics import classification_report\n",
    "y_pred = model.predict(x_valid)\n",
    "y_pred\n"
   ]
  },
  {
   "cell_type": "code",
   "execution_count": 36,
   "metadata": {},
   "outputs": [],
   "source": [
    "y_pred = np.argmax(y_pred, axis=1)"
   ]
  },
  {
   "cell_type": "code",
   "execution_count": 38,
   "metadata": {},
   "outputs": [
    {
     "name": "stdout",
     "output_type": "stream",
     "text": [
      "              precision    recall  f1-score   support\n",
      "\n",
      "           0       0.58      0.96      0.72       206\n",
      "           1       0.88      0.28      0.42       200\n",
      "\n",
      "    accuracy                           0.63       406\n",
      "   macro avg       0.73      0.62      0.57       406\n",
      "weighted avg       0.72      0.63      0.58       406\n",
      "\n"
     ]
    }
   ],
   "source": [
    "print(classification_report(y_valid2,y_pred))"
   ]
  },
  {
   "cell_type": "markdown",
   "metadata": {},
   "source": [
    "## ■　間違えた画像の確認\n",
    "- confusion_matrixで検証用データで間違えた画像の確認\n",
    "- matploatで検証で間違えた画像を表示"
   ]
  },
  {
   "cell_type": "code",
   "execution_count": 39,
   "metadata": {},
   "outputs": [
    {
     "name": "stdout",
     "output_type": "stream",
     "text": [
      "[[198   8]\n",
      " [144  56]]\n",
      "0と出力されたが、讃岐うどんではなかったうどん (array([ 94, 103, 175, 176, 194, 232, 251, 279]),)\n",
      "1と出力されたが、讃岐うどんだったうどん (array([  2,   5,   6,   9,  11,  12,  13,  14,  27,  33,  41,  42,  45,\n",
      "        46,  55,  56,  57,  59,  63,  65,  67,  72,  74,  77,  80,  83,\n",
      "        87,  93,  97,  98, 101, 104, 109, 111, 115, 116, 121, 122, 125,\n",
      "       126, 127, 128, 130, 131, 134, 135, 137, 139, 140, 144, 147, 148,\n",
      "       149, 154, 157, 160, 161, 162, 165, 169, 171, 172, 179, 183, 184,\n",
      "       185, 186, 188, 190, 195, 200, 207, 209, 213, 221, 225, 226, 227,\n",
      "       228, 235, 237, 239, 244, 248, 252, 253, 254, 255, 256, 257, 260,\n",
      "       262, 264, 270, 273, 275, 277, 280, 282, 283, 286, 292, 303, 305,\n",
      "       306, 309, 311, 316, 319, 329, 330, 331, 333, 334, 336, 338, 339,\n",
      "       341, 342, 346, 347, 350, 351, 352, 353, 355, 356, 360, 361, 366,\n",
      "       368, 372, 377, 378, 380, 383, 386, 387, 388, 390, 392, 393, 397,\n",
      "       398]),)\n"
     ]
    }
   ],
   "source": [
    "from sklearn.metrics import confusion_matrix\n",
    "print(confusion_matrix(y_valid2,y_pred))\n",
    "print(\"0と出力されたが、讃岐うどんではなかったうどん\",np.where((y_pred != y_valid2) & (y_valid2 == 0)))\n",
    "print(\"1と出力されたが、讃岐うどんだったうどん\",np.where((y_pred != y_valid2) & (y_valid2 == 1)))"
   ]
  },
  {
   "cell_type": "code",
   "execution_count": 43,
   "metadata": {},
   "outputs": [
    {
     "data": {
      "text/plain": [
       "<matplotlib.image.AxesImage at 0x118983a50>"
      ]
     },
     "execution_count": 43,
     "metadata": {},
     "output_type": "execute_result"
    },
    {
     "data": {
      "image/png": "[encoded data removed]",
      "text/plain": [
       "<Figure size 432x288 with 1 Axes>"
      ]
     },
     "metadata": {
      "needs_background": "light"
     },
     "output_type": "display_data"
    }
   ],
   "source": [
    "from matplotlib import pyplot as plt\n",
    "plt.imshow(x_valid[369])"
   ]
  },
  {
   "cell_type": "markdown",
   "metadata": {},
   "source": [
    "## チェーン店のうどんを確認\n",
    "- 学習と同じように、testデータを読み込みnumpy配列にして加工\n",
    "- 讃岐うどんの確率を出力する"
   ]
  },
  {
   "cell_type": "code",
   "execution_count": 44,
   "metadata": {},
   "outputs": [],
   "source": [
    "test_udon=[]\n",
    "test_img = \"test/*\"\n",
    "test_img  = glob.glob(test_img)\n",
    "for i,f in enumerate(test_img):\n",
    " img = Image.open(f)\n",
    " test_img = img.convert(\"RGB\").resize((100,100))\n",
    " resized_image = np.array(test_img)\n",
    " im = np.array(resized_image)\n",
    " test_udon.append(im)\n",
    "test_img= np.array(test_udon)\n",
    "# test_img = test_udon.reshape(-1,100, 100, 3)\n",
    "test_img  = test_img.astype('float32')\n",
    "test_img /=255\n",
    "x_test = test_img\n",
    "y_test = model.predict(x_test)"
   ]
  },
  {
   "cell_type": "code",
   "execution_count": 45,
   "metadata": {},
   "outputs": [
    {
     "name": "stdout",
     "output_type": "stream",
     "text": [
      "本場讃岐うどんである確率 0.99 %\n",
      "その他のうどんである確率 0.01 %\n"
     ]
    },
    {
     "data": {
      "image/png": "[encoded data removed]",
      "text/plain": [
       "<Figure size 432x288 with 1 Axes>"
      ]
     },
     "metadata": {
      "needs_background": "light"
     },
     "output_type": "display_data"
    }
   ],
   "source": [
    "plt.imshow(x_test[0])\n",
    "print(\"本場讃岐うどんである確率\",round(y_test[0,0],2),\"%\")\n",
    "print(\"その他のうどんである確率\",round(y_test[0,1],2),\"%\")"
   ]
  },
  {
   "cell_type": "code",
   "execution_count": 46,
   "metadata": {},
   "outputs": [
    {
     "name": "stdout",
     "output_type": "stream",
     "text": [
      "本場讃岐うどんである確率 0.41 %\n",
      "その他のうどんである確率 0.59 %\n"
     ]
    },
    {
     "data": {
      "image/png": "[encoded data removed]",
      "text/plain": [
       "<Figure size 432x288 with 1 Axes>"
      ]
     },
     "metadata": {
      "needs_background": "light"
     },
     "output_type": "display_data"
    }
   ],
   "source": [
    "plt.imshow(x_test[1])\n",
    "\n",
    "print(\"本場讃岐うどんである確率\",round(y_test[1,0],2),\"%\")\n",
    "print(\"その他のうどんである確率\",round(y_test[1,1],2),\"%\")"
   ]
  },
  {
   "cell_type": "code",
   "execution_count": null,
   "metadata": {},
   "outputs": [],
   "source": []
  }
 ],
 "metadata": {
  "kernelspec": {
   "display_name": "Python 3",
   "language": "python",
   "name": "python3"
  },
  "language_info": {
   "codemirror_mode": {
    "name": "ipython",
    "version": 3
   },
   "file_extension": ".py",
   "mimetype": "text/x-python",
   "name": "python",
   "nbconvert_exporter": "python",
   "pygments_lexer": "ipython3",
   "version": "3.7.6"
  }
 },
 "nbformat": 4,
 "nbformat_minor": 4
}
